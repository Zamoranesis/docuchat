{
 "cells": [
  {
   "cell_type": "markdown",
   "metadata": {},
   "source": [
    "### 0)Setup"
   ]
  },
  {
   "cell_type": "code",
   "execution_count": null,
   "metadata": {},
   "outputs": [],
   "source": [
    "# # Restart kernel afterwards\n",
    "# # GPU llama-cpp-python\n",
    "# ! CMAKE_ARGS=\"-DLLAMA_CUBLAS=on\" FORCE_CMAKE=1 pip install llama-cpp-python --force-reinstall --upgrade --no-cache-dir --verbose\n",
    "# # For download the models\n",
    "# ! pip install -q huggingface_hub\n",
    "# ! pip install -q ctransformers==0.2.5\n",
    "# ! pip install -q faiss-cpu==1.7.4\n",
    "# ! pip install -q langchain==0.0.225\n",
    "# ! pip install -q pypdf==3.8.1\n",
    "# ! pip install -q sentence-transformers==2.2.2\n",
    "# ! pip install -q uvicorn>=0.22.0"
   ]
  },
  {
   "cell_type": "code",
   "execution_count": 1,
   "metadata": {},
   "outputs": [],
   "source": [
    "import os\n",
    "\n",
    "work_dir = \"/src\""
   ]
  },
  {
   "cell_type": "code",
   "execution_count": null,
   "metadata": {},
   "outputs": [],
   "source": [
    "from huggingface_hub import hf_hub_download"
   ]
  },
  {
   "cell_type": "code",
   "execution_count": 2,
   "metadata": {},
   "outputs": [],
   "source": [
    "model_dir = \"../data\"\n",
    "model_id = \"TheBloke/Llama-2-13B-chat-GGML\"\n",
    "file_name = \"llama-2-13b-chat.ggmlv3.q5_1.bin\" # the model is in bin format"
   ]
  },
  {
   "cell_type": "code",
   "execution_count": 4,
   "metadata": {},
   "outputs": [
    {
     "data": {
      "text/plain": [
       "'../models'"
      ]
     },
     "execution_count": 4,
     "metadata": {},
     "output_type": "execute_result"
    }
   ],
   "source": [
    "model_dir"
   ]
  },
  {
   "cell_type": "markdown",
   "metadata": {},
   "source": [
    "### 1)Load Model from HuggingFace"
   ]
  },
  {
   "cell_type": "code",
   "execution_count": null,
   "metadata": {},
   "outputs": [],
   "source": [
    "# Download the model into local store\n",
    "# https://huggingface.co/docs/huggingface_hub/guides/download\n",
    "model_path = hf_hub_download(repo_id=model_id,\n",
    "                            filename=file_name,\n",
    "                            local_dir = model_dir,\n",
    "                            local_dir_use_symlinks=True, # defines how the file must be saved in your local folder->False: File will be downloaded and moved directly to the local dir\n",
    "                            )"
   ]
  }
 ],
 "metadata": {
  "kernelspec": {
   "display_name": "nlp_env",
   "language": "python",
   "name": "python3"
  },
  "language_info": {
   "codemirror_mode": {
    "name": "ipython",
    "version": 3
   },
   "file_extension": ".py",
   "mimetype": "text/x-python",
   "name": "python",
   "nbconvert_exporter": "python",
   "pygments_lexer": "ipython3",
   "version": "3.10.9"
  },
  "orig_nbformat": 4
 },
 "nbformat": 4,
 "nbformat_minor": 2
}
